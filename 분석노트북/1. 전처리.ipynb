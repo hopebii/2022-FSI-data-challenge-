{
 "cells": [
  {
   "cell_type": "code",
   "execution_count": 1,
   "id": "aa1cbf12",
   "metadata": {},
   "outputs": [],
   "source": [
    "import pandas as pd \n",
    "import numpy as np\n",
    "import matplotlib.pyplot as plt \n",
    "import seaborn as sns\n",
    "import plotly.graph_objects as go # 시각화 \n",
    "import statsmodels.formula.api as smf"
   ]
  },
  {
   "cell_type": "code",
   "execution_count": null,
   "id": "4602b8a2",
   "metadata": {},
   "outputs": [],
   "source": [
    "# 차원축소 pacakage \n",
    "\n",
    "from sklearn.preprocessing import StandardScaler\n",
    "from sklearn.decomposition import PCA, TruncatedSVD\n",
    "from sklearn.decomposition import NMF \n",
    "from sklearn.manifold import TSNE\n",
    "from mpl_toolkits.mplot3d import Axes3D\n",
    "from sklearn.discriminant_analysis import LinearDiscriminantAnalysis\n",
    "from numpy.linalg import svd \n",
    "from scipy.sparse.linalg import svds\n",
    "from factor_analyzer import FactorAnalyzer # 요인분석 install \n"
   ]
  },
  {
   "cell_type": "code",
   "execution_count": null,
   "id": "7b4da290",
   "metadata": {},
   "outputs": [],
   "source": [
    "# clustering \n",
    "\n",
    "from sklearn.cluster import KMeans\n",
    "from sklearn.metrics import silhouette_samples, silhouette_score\n",
    "\n",
    "from sklearn.cluster import MeanShift\n",
    "from sklearn.cluster import estimate_bandwidth\n",
    "\n",
    "from sklearn.mixture import GaussianMixture\n",
    "\n",
    "from sklearn.cluster import DBSCAN\n",
    "\n",
    "from scipy.cluster.hierarchy import linkage, dendrogram\n",
    "\n",
    "from sklearn.cluster import AgglomerativeClustering\n",
    "from sklearn.cluster import Birch \n",
    "from sklearn.cluster import OPTICS\n",
    "from sklearn.cluster import SpectralClustering\n",
    "\n",
    "#KPrototypes ; 범주형, 수치형 둘 다 고려한 알고리즘 install \n",
    "from kmodes.kprototypes import KPrototypes\n",
    "\n",
    "#KModes ; 범주형 데이터를 고려한 클러스터링 알고리즘 \n",
    "from kmodes.kmodes import KModes"
   ]
  },
  {
   "cell_type": "code",
   "execution_count": null,
   "id": "b31ad381",
   "metadata": {},
   "outputs": [],
   "source": [
    "# recommentation \n",
    "\n",
    "from surprise import Reader"
   ]
  },
  {
   "cell_type": "code",
   "execution_count": null,
   "id": "18cbccec",
   "metadata": {},
   "outputs": [],
   "source": [
    "# text \n",
    "\n",
    "from konlpy.tag import Okt\n",
    "from sklearn.metrics.pairwise import cosine_similarity"
   ]
  },
  {
   "cell_type": "markdown",
   "id": "10b94925",
   "metadata": {},
   "source": [
    "auto package"
   ]
  },
  {
   "cell_type": "code",
   "execution_count": null,
   "id": "40f28b37",
   "metadata": {
    "scrolled": false
   },
   "outputs": [],
   "source": [
    "from dataprep.datasets import load_dataset\n",
    "from dataprep.eda import create_report"
   ]
  },
  {
   "cell_type": "code",
   "execution_count": null,
   "id": "1268d59f",
   "metadata": {},
   "outputs": [],
   "source": [
    "from matplotlib import rc \n",
    "import matplotlib.font_manager as fm\n",
    "\n",
    "font_list = fm.findSystemFonts(fontpaths=None, fontext = 'ttf')\n",
    "font_list[:]"
   ]
  },
  {
   "cell_type": "code",
   "execution_count": null,
   "id": "b3f93371",
   "metadata": {},
   "outputs": [],
   "source": [
    "from matplotlib import font_manager, rc \n",
    "font_path ='C:\\\\Windows\\\\Fonts\\\\Hancom Gothic Regular.ttf'\n",
    "font = font_manager.FontProperties(fname=font_path).get_name() \n",
    "rc('font', family = font)"
   ]
  },
  {
   "cell_type": "code",
   "execution_count": 8,
   "id": "5f7bd4af",
   "metadata": {
    "scrolled": true
   },
   "outputs": [
    {
     "name": "stderr",
     "output_type": "stream",
     "text": [
      "<ipython-input-8-f80320597523>:1: DtypeWarning: Columns (0) have mixed types. Specify dtype option on import or set low_memory=False.\n",
      "  data = pd.read_csv('C:/Users/fsecuser507/cu.csv')\n"
     ]
    }
   ],
   "source": [
    "data = pd.read_csv('C:/Users/fsecuser507/cu.csv')"
   ]
  },
  {
   "cell_type": "code",
   "execution_count": 9,
   "id": "306e61e5",
   "metadata": {},
   "outputs": [
    {
     "data": {
      "text/plain": [
       "(13635372, 18)"
      ]
     },
     "execution_count": 9,
     "metadata": {},
     "output_type": "execute_result"
    }
   ],
   "source": [
    "data.shape"
   ]
  },
  {
   "cell_type": "code",
   "execution_count": 10,
   "id": "ece00243",
   "metadata": {},
   "outputs": [],
   "source": [
    "import re \n",
    "\n",
    "data['YM_CD'] = data['YM_CD'].apply(lambda x : re.sub(r'[^0-9]','',str(x)))\n",
    "data['YM_CD'] = data['YM_CD'].apply(lambda x : int(x))"
   ]
  },
  {
   "cell_type": "code",
   "execution_count": 11,
   "id": "549a30e7",
   "metadata": {},
   "outputs": [],
   "source": [
    "data['month'] = data['YM_CD'].apply(lambda x : str(x)[4:])"
   ]
  },
  {
   "cell_type": "code",
   "execution_count": 12,
   "id": "02aa09a2",
   "metadata": {},
   "outputs": [],
   "source": [
    "week = pd.DataFrame() \n",
    "week['WEEK_CD'] = [1,2,3,4,5,6,7]\n",
    "week['요일'] = ['일','월','화','수','목','금','토']\n",
    "\n",
    "time = pd.DataFrame() \n",
    "time['TIME_CD'] = [1,2,3,4,5]\n",
    "time['결제시간'] = ['00~05','06~09','10~13','14~17','18~23']\n",
    "\n",
    "life = pd.DataFrame() \n",
    "life['SUBD_CTGO_CD'] = [1,2,3,4,5] \n",
    "life['가구생애'] = ['1인가구','신혼영유아','초중고자녀','성인자녀','노인가구']\n"
   ]
  },
  {
   "cell_type": "code",
   "execution_count": 13,
   "id": "cedf119d",
   "metadata": {},
   "outputs": [],
   "source": [
    "data = pd.merge(data, week, left_on='WEEK_CD', right_on = 'WEEK_CD')\n",
    "data.drop('WEEK_CD',axis=1,inplace=True)"
   ]
  },
  {
   "cell_type": "code",
   "execution_count": 7,
   "id": "415ab5e4",
   "metadata": {},
   "outputs": [
    {
     "data": {
      "text/plain": [
       "(13635372, 19)"
      ]
     },
     "execution_count": 7,
     "metadata": {},
     "output_type": "execute_result"
    }
   ],
   "source": [
    "data.shape"
   ]
  },
  {
   "cell_type": "code",
   "execution_count": 14,
   "id": "80527930",
   "metadata": {},
   "outputs": [],
   "source": [
    "data = pd.merge(data, time, left_on='TIME_CD', right_on='TIME_CD') \n",
    "data.drop('TIME_CD', axis = 1, inplace=True) "
   ]
  },
  {
   "cell_type": "code",
   "execution_count": 15,
   "id": "c49af955",
   "metadata": {},
   "outputs": [
    {
     "data": {
      "text/plain": [
       "(13635372, 19)"
      ]
     },
     "execution_count": 15,
     "metadata": {},
     "output_type": "execute_result"
    }
   ],
   "source": [
    "data.shape"
   ]
  },
  {
   "cell_type": "code",
   "execution_count": 16,
   "id": "e397596a",
   "metadata": {},
   "outputs": [],
   "source": [
    "data = pd.merge(data, life, left_on='SUBD_CTGO_CD', right_on='SUBD_CTGO_CD') \n",
    "data.drop('SUBD_CTGO_CD', axis = 1, inplace=True) "
   ]
  },
  {
   "cell_type": "code",
   "execution_count": 17,
   "id": "99d0db41",
   "metadata": {
    "scrolled": true
   },
   "outputs": [
    {
     "data": {
      "text/plain": [
       "(13635366, 19)"
      ]
     },
     "execution_count": 17,
     "metadata": {},
     "output_type": "execute_result"
    }
   ],
   "source": [
    "data.shape"
   ]
  },
  {
   "cell_type": "code",
   "execution_count": 18,
   "id": "973b7867",
   "metadata": {},
   "outputs": [],
   "source": [
    "data.drop(['SIDO_CD', 'LCTN_TY_CD', 'LRCL_CD', 'MDCL_CD' ], axis =1, inplace=True)"
   ]
  },
  {
   "cell_type": "code",
   "execution_count": 19,
   "id": "68b91a91",
   "metadata": {},
   "outputs": [],
   "source": [
    "data.rename(columns = {'STORE_CNT' : '운영점포수','SIDO_NM' : '시도명',\n",
    "                  'LCTN_TY_NM' : '주변입지', 'LRCL_NM' : '상품대분류',\n",
    "                      'MDCL_NM' : '상품중분류', 'SALE_QTY' : '결제수량',\n",
    "                      'SALE_AMT' : '결제금액', 'CUST_CNT' : '결제고객수'},inplace=True)\n"
   ]
  },
  {
   "cell_type": "code",
   "execution_count": 20,
   "id": "4ab4472c",
   "metadata": {},
   "outputs": [
    {
     "data": {
      "text/plain": [
       "(13635366, 15)"
      ]
     },
     "execution_count": 20,
     "metadata": {},
     "output_type": "execute_result"
    }
   ],
   "source": [
    "data.shape"
   ]
  },
  {
   "cell_type": "code",
   "execution_count": 21,
   "id": "d8473c35",
   "metadata": {},
   "outputs": [],
   "source": [
    "data.to_csv('viz_data.csv')"
   ]
  },
  {
   "cell_type": "code",
   "execution_count": null,
   "id": "1d4480ca",
   "metadata": {},
   "outputs": [],
   "source": []
  },
  {
   "cell_type": "code",
   "execution_count": null,
   "id": "5d91dcc1",
   "metadata": {},
   "outputs": [],
   "source": []
  },
  {
   "cell_type": "code",
   "execution_count": null,
   "id": "02af511b",
   "metadata": {},
   "outputs": [],
   "source": []
  },
  {
   "cell_type": "code",
   "execution_count": null,
   "id": "17262eaf",
   "metadata": {},
   "outputs": [],
   "source": []
  },
  {
   "cell_type": "code",
   "execution_count": null,
   "id": "cb5123d0",
   "metadata": {},
   "outputs": [],
   "source": []
  },
  {
   "cell_type": "code",
   "execution_count": null,
   "id": "03207499",
   "metadata": {},
   "outputs": [],
   "source": []
  }
 ],
 "metadata": {
  "kernelspec": {
   "display_name": "Python 3",
   "language": "python",
   "name": "python3"
  },
  "language_info": {
   "codemirror_mode": {
    "name": "ipython",
    "version": 3
   },
   "file_extension": ".py",
   "mimetype": "text/x-python",
   "name": "python",
   "nbconvert_exporter": "python",
   "pygments_lexer": "ipython3",
   "version": "3.8.8"
  }
 },
 "nbformat": 4,
 "nbformat_minor": 5
}
